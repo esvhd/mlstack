{
 "cells": [
  {
   "cell_type": "code",
   "execution_count": 1,
   "metadata": {},
   "outputs": [],
   "source": [
    "import os.path as osp\n",
    "import janitor\n",
    "import pypbo.perf as perf"
   ]
  },
  {
   "cell_type": "code",
   "execution_count": 2,
   "metadata": {},
   "outputs": [],
   "source": [
    "data = osp.expanduser('~/data/etf.h5')\n",
    "px = pd.read_hdf(data, key='close')"
   ]
  },
  {
   "cell_type": "code",
   "execution_count": 3,
   "metadata": {},
   "outputs": [
    {
     "data": {
      "text/html": [
       "<div>\n",
       "<style scoped>\n",
       "    .dataframe tbody tr th:only-of-type {\n",
       "        vertical-align: middle;\n",
       "    }\n",
       "\n",
       "    .dataframe tbody tr th {\n",
       "        vertical-align: top;\n",
       "    }\n",
       "\n",
       "    .dataframe thead th {\n",
       "        text-align: right;\n",
       "    }\n",
       "</style>\n",
       "<table border=\"1\" class=\"dataframe\">\n",
       "  <thead>\n",
       "    <tr style=\"text-align: right;\">\n",
       "      <th></th>\n",
       "      <th>IEML LN Equity</th>\n",
       "      <th>IHYU LN Equity</th>\n",
       "      <th>HYG US Equity</th>\n",
       "      <th>EEM US Equity</th>\n",
       "      <th>SPY US Equity</th>\n",
       "      <th>VOO US Equity</th>\n",
       "      <th>VMID LN Equity</th>\n",
       "      <th>VUTA LN Equity</th>\n",
       "      <th>EMB US Equity</th>\n",
       "      <th>LQD US Equity</th>\n",
       "      <th>IEF US Equity</th>\n",
       "      <th>IEI US Equity</th>\n",
       "      <th>SHY US Equity</th>\n",
       "      <th>IHYG LN Equity</th>\n",
       "    </tr>\n",
       "    <tr>\n",
       "      <th>index</th>\n",
       "      <th></th>\n",
       "      <th></th>\n",
       "      <th></th>\n",
       "      <th></th>\n",
       "      <th></th>\n",
       "      <th></th>\n",
       "      <th></th>\n",
       "      <th></th>\n",
       "      <th></th>\n",
       "      <th></th>\n",
       "      <th></th>\n",
       "      <th></th>\n",
       "      <th></th>\n",
       "      <th></th>\n",
       "    </tr>\n",
       "  </thead>\n",
       "  <tbody>\n",
       "    <tr>\n",
       "      <td>2019-07-15</td>\n",
       "      <td>60.93</td>\n",
       "      <td>103.13</td>\n",
       "      <td>86.99</td>\n",
       "      <td>43.01</td>\n",
       "      <td>300.75</td>\n",
       "      <td>276.18</td>\n",
       "      <td>30.8800</td>\n",
       "      <td>20.7750</td>\n",
       "      <td>113.23</td>\n",
       "      <td>123.28</td>\n",
       "      <td>109.28</td>\n",
       "      <td>125.17</td>\n",
       "      <td>84.54</td>\n",
       "      <td>105.37</td>\n",
       "    </tr>\n",
       "    <tr>\n",
       "      <td>2019-07-16</td>\n",
       "      <td>60.83</td>\n",
       "      <td>102.88</td>\n",
       "      <td>86.81</td>\n",
       "      <td>42.95</td>\n",
       "      <td>299.71</td>\n",
       "      <td>275.28</td>\n",
       "      <td>30.9600</td>\n",
       "      <td>20.9175</td>\n",
       "      <td>113.17</td>\n",
       "      <td>123.02</td>\n",
       "      <td>109.04</td>\n",
       "      <td>124.98</td>\n",
       "      <td>84.51</td>\n",
       "      <td>105.31</td>\n",
       "    </tr>\n",
       "    <tr>\n",
       "      <td>2019-07-17</td>\n",
       "      <td>60.83</td>\n",
       "      <td>102.73</td>\n",
       "      <td>86.70</td>\n",
       "      <td>42.82</td>\n",
       "      <td>297.74</td>\n",
       "      <td>273.42</td>\n",
       "      <td>30.8725</td>\n",
       "      <td>20.9400</td>\n",
       "      <td>113.30</td>\n",
       "      <td>123.67</td>\n",
       "      <td>109.55</td>\n",
       "      <td>125.33</td>\n",
       "      <td>84.59</td>\n",
       "      <td>105.10</td>\n",
       "    </tr>\n",
       "    <tr>\n",
       "      <td>2019-07-18</td>\n",
       "      <td>61.03</td>\n",
       "      <td>102.51</td>\n",
       "      <td>86.74</td>\n",
       "      <td>43.08</td>\n",
       "      <td>298.83</td>\n",
       "      <td>274.42</td>\n",
       "      <td>30.7750</td>\n",
       "      <td>20.8700</td>\n",
       "      <td>113.51</td>\n",
       "      <td>123.96</td>\n",
       "      <td>109.82</td>\n",
       "      <td>125.62</td>\n",
       "      <td>84.69</td>\n",
       "      <td>104.82</td>\n",
       "    </tr>\n",
       "    <tr>\n",
       "      <td>2019-07-19</td>\n",
       "      <td>61.26</td>\n",
       "      <td>102.64</td>\n",
       "      <td>86.59</td>\n",
       "      <td>42.86</td>\n",
       "      <td>297.17</td>\n",
       "      <td>272.95</td>\n",
       "      <td>30.9100</td>\n",
       "      <td>20.8725</td>\n",
       "      <td>113.34</td>\n",
       "      <td>123.77</td>\n",
       "      <td>109.62</td>\n",
       "      <td>125.39</td>\n",
       "      <td>84.60</td>\n",
       "      <td>105.00</td>\n",
       "    </tr>\n",
       "  </tbody>\n",
       "</table>\n",
       "</div>"
      ],
      "text/plain": [
       "            IEML LN Equity  IHYU LN Equity  HYG US Equity  EEM US Equity  \\\n",
       "index                                                                      \n",
       "2019-07-15           60.93          103.13          86.99          43.01   \n",
       "2019-07-16           60.83          102.88          86.81          42.95   \n",
       "2019-07-17           60.83          102.73          86.70          42.82   \n",
       "2019-07-18           61.03          102.51          86.74          43.08   \n",
       "2019-07-19           61.26          102.64          86.59          42.86   \n",
       "\n",
       "            SPY US Equity  VOO US Equity  VMID LN Equity  VUTA LN Equity  \\\n",
       "index                                                                      \n",
       "2019-07-15         300.75         276.18         30.8800         20.7750   \n",
       "2019-07-16         299.71         275.28         30.9600         20.9175   \n",
       "2019-07-17         297.74         273.42         30.8725         20.9400   \n",
       "2019-07-18         298.83         274.42         30.7750         20.8700   \n",
       "2019-07-19         297.17         272.95         30.9100         20.8725   \n",
       "\n",
       "            EMB US Equity  LQD US Equity  IEF US Equity  IEI US Equity  \\\n",
       "index                                                                    \n",
       "2019-07-15         113.23         123.28         109.28         125.17   \n",
       "2019-07-16         113.17         123.02         109.04         124.98   \n",
       "2019-07-17         113.30         123.67         109.55         125.33   \n",
       "2019-07-18         113.51         123.96         109.82         125.62   \n",
       "2019-07-19         113.34         123.77         109.62         125.39   \n",
       "\n",
       "            SHY US Equity  IHYG LN Equity  \n",
       "index                                      \n",
       "2019-07-15          84.54          105.37  \n",
       "2019-07-16          84.51          105.31  \n",
       "2019-07-17          84.59          105.10  \n",
       "2019-07-18          84.69          104.82  \n",
       "2019-07-19          84.60          105.00  "
      ]
     },
     "execution_count": 3,
     "metadata": {},
     "output_type": "execute_result"
    }
   ],
   "source": [
    "px.tail()"
   ]
  },
  {
   "cell_type": "code",
   "execution_count": 4,
   "metadata": {},
   "outputs": [],
   "source": [
    "rtns = perf.log_returns(px)"
   ]
  },
  {
   "cell_type": "code",
   "execution_count": 5,
   "metadata": {},
   "outputs": [
    {
     "name": "stdout",
     "output_type": "stream",
     "text": [
      "<class 'pandas.core.frame.DataFrame'>\n",
      "DatetimeIndex: 4967 entries, 2000-01-03 to 2019-07-19\n",
      "Data columns (total 14 columns):\n",
      "IEML LN Equity    2043 non-null float64\n",
      "IHYU LN Equity    1983 non-null float64\n",
      "HYG US Equity     3090 non-null float64\n",
      "EEM US Equity     4095 non-null float64\n",
      "SPY US Equity     4916 non-null float64\n",
      "VOO US Equity     2229 non-null float64\n",
      "VMID LN Equity    1213 non-null float64\n",
      "VUTA LN Equity    102 non-null float64\n",
      "EMB US Equity     2913 non-null float64\n",
      "LQD US Equity     4274 non-null float64\n",
      "IEF US Equity     4274 non-null float64\n",
      "IEI US Equity     3151 non-null float64\n",
      "SHY US Equity     4274 non-null float64\n",
      "IHYG LN Equity    2241 non-null float64\n",
      "dtypes: float64(14)\n",
      "memory usage: 582.1 KB\n"
     ]
    }
   ],
   "source": [
    "rtns.info()"
   ]
  },
  {
   "cell_type": "code",
   "execution_count": 6,
   "metadata": {},
   "outputs": [
    {
     "data": {
      "text/plain": [
       "<matplotlib.axes._subplots.AxesSubplot at 0x7f64d6db5898>"
      ]
     },
     "execution_count": 6,
     "metadata": {},
     "output_type": "execute_result"
    },
    {
     "data": {
      "image/png": "[encoded data removed]",
      "text/plain": [
       "<Figure size 1200x400 with 1 Axes>"
      ]
     },
     "metadata": {},
     "output_type": "display_data"
    }
   ],
   "source": [
    "rtns[['LQD US Equity', 'IEF US Equity', 'SHY US Equity', 'SPY US Equity']].cumsum().plot()"
   ]
  },
  {
   "cell_type": "code",
   "execution_count": 7,
   "metadata": {},
   "outputs": [],
   "source": [
    "# import sys\n",
    "# sys.path.insert(0, '/Users/zwl/git/mlstack')"
   ]
  },
  {
   "cell_type": "code",
   "execution_count": 8,
   "metadata": {},
   "outputs": [],
   "source": [
    "import mlstack.tscv as tscv"
   ]
  },
  {
   "cell_type": "code",
   "execution_count": 9,
   "metadata": {},
   "outputs": [],
   "source": [
    "dfl = tscv.wide_to_long(rtns)"
   ]
  },
  {
   "cell_type": "code",
   "execution_count": 10,
   "metadata": {},
   "outputs": [
    {
     "name": "stdout",
     "output_type": "stream",
     "text": [
      "<class 'pandas.core.frame.DataFrame'>\n",
      "Int64Index: 40798 entries, 0 to 40797\n",
      "Data columns (total 3 columns):\n",
      "index    40798 non-null datetime64[ns]\n",
      "name     40798 non-null object\n",
      "value    40798 non-null float64\n",
      "dtypes: datetime64[ns](1), float64(1), object(1)\n",
      "memory usage: 1.2+ MB\n"
     ]
    }
   ],
   "source": [
    "dfl.info()"
   ]
  },
  {
   "cell_type": "code",
   "execution_count": 11,
   "metadata": {},
   "outputs": [
    {
     "data": {
      "text/html": [
       "<div>\n",
       "<style scoped>\n",
       "    .dataframe tbody tr th:only-of-type {\n",
       "        vertical-align: middle;\n",
       "    }\n",
       "\n",
       "    .dataframe tbody tr th {\n",
       "        vertical-align: top;\n",
       "    }\n",
       "\n",
       "    .dataframe thead th {\n",
       "        text-align: right;\n",
       "    }\n",
       "</style>\n",
       "<table border=\"1\" class=\"dataframe\">\n",
       "  <thead>\n",
       "    <tr style=\"text-align: right;\">\n",
       "      <th></th>\n",
       "      <th>index</th>\n",
       "      <th>name</th>\n",
       "      <th>value</th>\n",
       "    </tr>\n",
       "  </thead>\n",
       "  <tbody>\n",
       "    <tr>\n",
       "      <td>0</td>\n",
       "      <td>2003-04-14</td>\n",
       "      <td>EEM US Equity</td>\n",
       "      <td>0.012997</td>\n",
       "    </tr>\n",
       "    <tr>\n",
       "      <td>1</td>\n",
       "      <td>2003-04-15</td>\n",
       "      <td>EEM US Equity</td>\n",
       "      <td>0.011777</td>\n",
       "    </tr>\n",
       "    <tr>\n",
       "      <td>2</td>\n",
       "      <td>2003-04-16</td>\n",
       "      <td>EEM US Equity</td>\n",
       "      <td>0.011524</td>\n",
       "    </tr>\n",
       "    <tr>\n",
       "      <td>3</td>\n",
       "      <td>2003-04-17</td>\n",
       "      <td>EEM US Equity</td>\n",
       "      <td>0.007150</td>\n",
       "    </tr>\n",
       "    <tr>\n",
       "      <td>4</td>\n",
       "      <td>2003-04-21</td>\n",
       "      <td>EEM US Equity</td>\n",
       "      <td>-0.000460</td>\n",
       "    </tr>\n",
       "  </tbody>\n",
       "</table>\n",
       "</div>"
      ],
      "text/plain": [
       "       index           name     value\n",
       "0 2003-04-14  EEM US Equity  0.012997\n",
       "1 2003-04-15  EEM US Equity  0.011777\n",
       "2 2003-04-16  EEM US Equity  0.011524\n",
       "3 2003-04-17  EEM US Equity  0.007150\n",
       "4 2003-04-21  EEM US Equity -0.000460"
      ]
     },
     "execution_count": 11,
     "metadata": {},
     "output_type": "execute_result"
    }
   ],
   "source": [
    "dfl.head()"
   ]
  },
  {
   "cell_type": "code",
   "execution_count": null,
   "metadata": {},
   "outputs": [],
   "source": []
  },
  {
   "cell_type": "code",
   "execution_count": 12,
   "metadata": {},
   "outputs": [],
   "source": [
    "feat_cols = ['LQD US Equity', 'IEF US Equity', 'EEM US Equity', 'SPY US Equity']"
   ]
  },
  {
   "cell_type": "code",
   "execution_count": 48,
   "metadata": {},
   "outputs": [],
   "source": [
    "x = rtns[feat_cols].dropna(how='all')"
   ]
  },
  {
   "cell_type": "code",
   "execution_count": 49,
   "metadata": {},
   "outputs": [],
   "source": [
    "flag = x.isnull().any(axis=1)"
   ]
  },
  {
   "cell_type": "code",
   "execution_count": 50,
   "metadata": {},
   "outputs": [
    {
     "data": {
      "text/html": [
       "<div>\n",
       "<style scoped>\n",
       "    .dataframe tbody tr th:only-of-type {\n",
       "        vertical-align: middle;\n",
       "    }\n",
       "\n",
       "    .dataframe tbody tr th {\n",
       "        vertical-align: top;\n",
       "    }\n",
       "\n",
       "    .dataframe thead th {\n",
       "        text-align: right;\n",
       "    }\n",
       "</style>\n",
       "<table border=\"1\" class=\"dataframe\">\n",
       "  <thead>\n",
       "    <tr style=\"text-align: right;\">\n",
       "      <th></th>\n",
       "      <th>LQD US Equity</th>\n",
       "      <th>IEF US Equity</th>\n",
       "      <th>EEM US Equity</th>\n",
       "      <th>SPY US Equity</th>\n",
       "    </tr>\n",
       "    <tr>\n",
       "      <th>index</th>\n",
       "      <th></th>\n",
       "      <th></th>\n",
       "      <th></th>\n",
       "      <th></th>\n",
       "    </tr>\n",
       "  </thead>\n",
       "  <tbody>\n",
       "    <tr>\n",
       "      <td>2003-04-07</td>\n",
       "      <td>-0.001829</td>\n",
       "      <td>-0.002340</td>\n",
       "      <td>NaN</td>\n",
       "      <td>-0.001930</td>\n",
       "    </tr>\n",
       "    <tr>\n",
       "      <td>2003-04-08</td>\n",
       "      <td>0.003654</td>\n",
       "      <td>0.003743</td>\n",
       "      <td>NaN</td>\n",
       "      <td>0.001590</td>\n",
       "    </tr>\n",
       "    <tr>\n",
       "      <td>2003-04-09</td>\n",
       "      <td>0.003277</td>\n",
       "      <td>0.003380</td>\n",
       "      <td>NaN</td>\n",
       "      <td>-0.013242</td>\n",
       "    </tr>\n",
       "    <tr>\n",
       "      <td>2003-04-10</td>\n",
       "      <td>-0.003642</td>\n",
       "      <td>-0.002680</td>\n",
       "      <td>NaN</td>\n",
       "      <td>0.005500</td>\n",
       "    </tr>\n",
       "    <tr>\n",
       "      <td>2003-04-11</td>\n",
       "      <td>-0.003563</td>\n",
       "      <td>-0.002570</td>\n",
       "      <td>NaN</td>\n",
       "      <td>-0.004121</td>\n",
       "    </tr>\n",
       "  </tbody>\n",
       "</table>\n",
       "</div>"
      ],
      "text/plain": [
       "            LQD US Equity  IEF US Equity  EEM US Equity  SPY US Equity\n",
       "index                                                                 \n",
       "2003-04-07      -0.001829      -0.002340            NaN      -0.001930\n",
       "2003-04-08       0.003654       0.003743            NaN       0.001590\n",
       "2003-04-09       0.003277       0.003380            NaN      -0.013242\n",
       "2003-04-10      -0.003642      -0.002680            NaN       0.005500\n",
       "2003-04-11      -0.003563      -0.002570            NaN      -0.004121"
      ]
     },
     "execution_count": 50,
     "metadata": {},
     "output_type": "execute_result"
    }
   ],
   "source": [
    "x.loc[flag].tail()"
   ]
  },
  {
   "cell_type": "code",
   "execution_count": 51,
   "metadata": {},
   "outputs": [],
   "source": [
    "# safe to drop other NaN\n",
    "x = x.dropna(how='any')"
   ]
  },
  {
   "cell_type": "code",
   "execution_count": 52,
   "metadata": {},
   "outputs": [],
   "source": [
    "x = janitor.clean_names(x)"
   ]
  },
  {
   "cell_type": "code",
   "execution_count": 53,
   "metadata": {},
   "outputs": [
    {
     "name": "stdout",
     "output_type": "stream",
     "text": [
      "<class 'pandas.core.frame.DataFrame'>\n",
      "DatetimeIndex: 4095 entries, 2003-04-14 to 2019-07-19\n",
      "Data columns (total 4 columns):\n",
      "lqd_us_equity    4095 non-null float64\n",
      "ief_us_equity    4095 non-null float64\n",
      "eem_us_equity    4095 non-null float64\n",
      "spy_us_equity    4095 non-null float64\n",
      "dtypes: float64(4)\n",
      "memory usage: 160.0 KB\n"
     ]
    }
   ],
   "source": [
    "x.info()"
   ]
  },
  {
   "cell_type": "code",
   "execution_count": 54,
   "metadata": {},
   "outputs": [],
   "source": [
    "# now convert to sequence examples (t, dim)\n",
    "seq_len = 12\n",
    "dim = x.shape[1]"
   ]
  },
  {
   "cell_type": "code",
   "execution_count": 55,
   "metadata": {},
   "outputs": [],
   "source": [
    "num_train = len(x) // seq_len\n",
    "tail = len(x) % seq_len"
   ]
  },
  {
   "cell_type": "code",
   "execution_count": 56,
   "metadata": {},
   "outputs": [
    {
     "data": {
      "text/plain": [
       "(341, 3)"
      ]
     },
     "execution_count": 56,
     "metadata": {},
     "output_type": "execute_result"
    }
   ],
   "source": [
    "num_train, tail"
   ]
  },
  {
   "cell_type": "code",
   "execution_count": 57,
   "metadata": {},
   "outputs": [
    {
     "data": {
      "text/plain": [
       "4092"
      ]
     },
     "execution_count": 57,
     "metadata": {},
     "output_type": "execute_result"
    }
   ],
   "source": [
    "# remove tail\n",
    "if tail > 0:\n",
    "    x = x.iloc[:-tail]\n",
    "len(x)"
   ]
  },
  {
   "cell_type": "code",
   "execution_count": 58,
   "metadata": {},
   "outputs": [],
   "source": [
    "xx = x.values.reshape((-1, seq_len, dim))"
   ]
  },
  {
   "cell_type": "code",
   "execution_count": 59,
   "metadata": {},
   "outputs": [
    {
     "data": {
      "text/plain": [
       "(341, 12, 4)"
      ]
     },
     "execution_count": 59,
     "metadata": {},
     "output_type": "execute_result"
    }
   ],
   "source": [
    "xx.shape"
   ]
  },
  {
   "cell_type": "code",
   "execution_count": 60,
   "metadata": {},
   "outputs": [
    {
     "data": {
      "text/plain": [
       "[<matplotlib.lines.Line2D at 0x7f64355de9e8>,\n",
       " <matplotlib.lines.Line2D at 0x7f64355dec88>,\n",
       " <matplotlib.lines.Line2D at 0x7f64355deeb8>,\n",
       " <matplotlib.lines.Line2D at 0x7f64355fe208>]"
      ]
     },
     "execution_count": 60,
     "metadata": {},
     "output_type": "execute_result"
    },
    {
     "data": {
      "image/png": "[encoded data removed]",
      "text/plain": [
       "<Figure size 1200x400 with 1 Axes>"
      ]
     },
     "metadata": {},
     "output_type": "display_data"
    }
   ],
   "source": [
    "# long at random slice\n",
    "plt.plot(range(12), xx[105].cumsum(axis=0))"
   ]
  },
  {
   "cell_type": "code",
   "execution_count": 26,
   "metadata": {},
   "outputs": [],
   "source": [
    "import torch\n",
    "import torch.nn as nn"
   ]
  },
  {
   "cell_type": "code",
   "execution_count": 27,
   "metadata": {},
   "outputs": [],
   "source": [
    "import sys\n",
    "sys.path.insert(0, osp.expanduser('~/git/former/'))"
   ]
  },
  {
   "cell_type": "code",
   "execution_count": 28,
   "metadata": {},
   "outputs": [],
   "source": [
    "# from former.transformers import CTransformer"
   ]
  },
  {
   "cell_type": "code",
   "execution_count": 29,
   "metadata": {},
   "outputs": [],
   "source": [
    "from former.transformers import TSTransformer"
   ]
  },
  {
   "cell_type": "code",
   "execution_count": 30,
   "metadata": {},
   "outputs": [],
   "source": [
    "device = 'cuda' if torch.cuda.is_available() else 'cpu'"
   ]
  },
  {
   "cell_type": "code",
   "execution_count": 31,
   "metadata": {},
   "outputs": [],
   "source": [
    "b, t, e = xx.shape"
   ]
  },
  {
   "cell_type": "code",
   "execution_count": 61,
   "metadata": {},
   "outputs": [],
   "source": [
    "former = TSTransformer(feature_dim=e, heads=4, depth=3, seq_length=t, \n",
    "                       num_classes=3)"
   ]
  },
  {
   "cell_type": "code",
   "execution_count": 62,
   "metadata": {},
   "outputs": [],
   "source": [
    "former = former.to(device)"
   ]
  },
  {
   "cell_type": "code",
   "execution_count": 63,
   "metadata": {},
   "outputs": [],
   "source": [
    "xa = torch.from_numpy(xx).to(device).float()"
   ]
  },
  {
   "cell_type": "code",
   "execution_count": 93,
   "metadata": {},
   "outputs": [
    {
     "data": {
      "text/plain": [
       "torch.Size([341, 12, 4])"
      ]
     },
     "execution_count": 93,
     "metadata": {},
     "output_type": "execute_result"
    }
   ],
   "source": [
    "xa.shape"
   ]
  },
  {
   "cell_type": "code",
   "execution_count": 64,
   "metadata": {},
   "outputs": [
    {
     "data": {
      "text/plain": [
       "torch.float32"
      ]
     },
     "execution_count": 64,
     "metadata": {},
     "output_type": "execute_result"
    }
   ],
   "source": [
    "xa.dtype"
   ]
  },
  {
   "cell_type": "code",
   "execution_count": 65,
   "metadata": {},
   "outputs": [],
   "source": [
    "y = former.forward(xa)"
   ]
  },
  {
   "cell_type": "code",
   "execution_count": 66,
   "metadata": {},
   "outputs": [
    {
     "data": {
      "text/plain": [
       "torch.Size([341, 3])"
      ]
     },
     "execution_count": 66,
     "metadata": {},
     "output_type": "execute_result"
    }
   ],
   "source": [
    "y.shape"
   ]
  },
  {
   "cell_type": "code",
   "execution_count": 67,
   "metadata": {},
   "outputs": [
    {
     "data": {
      "text/plain": [
       "tensor([[-1.2405, -1.9530, -0.5640],\n",
       "        [-1.2385, -1.9670, -0.5616],\n",
       "        [-1.2394, -1.9555, -0.5640],\n",
       "        ...,\n",
       "        [-1.2394, -1.9647, -0.5617],\n",
       "        [-1.2385, -1.9619, -0.5628],\n",
       "        [-1.2390, -1.9636, -0.5621]], device='cuda:0',\n",
       "       grad_fn=<LogSoftmaxBackward>)"
      ]
     },
     "execution_count": 67,
     "metadata": {},
     "output_type": "execute_result"
    }
   ],
   "source": [
    "y"
   ]
  },
  {
   "cell_type": "markdown",
   "metadata": {},
   "source": [
    "## Next Steps\n",
    "\n",
    "- learn `torch.utils.data.Dataset` and implement a `Dataset` object that feeds financial time series data.\n",
    "    - [blog](https://stanford.edu/~shervine/blog/pytorch-how-to-generate-data-parallel)\n",
    "    - [docs](https://pytorch.org/docs/stable/data.html)\n",
    "- Use `pytorch_lightning` to build a quick script to predict asset returns.\n"
   ]
  },
  {
   "cell_type": "markdown",
   "metadata": {},
   "source": [
    "### Split data into features and labels"
   ]
  },
  {
   "cell_type": "code",
   "execution_count": 41,
   "metadata": {},
   "outputs": [],
   "source": [
    "from mlstack import data_processing as dp"
   ]
  },
  {
   "cell_type": "code",
   "execution_count": 40,
   "metadata": {},
   "outputs": [],
   "source": [
    "from mlstack.tscv import TimeSeriesEmbargoSplit"
   ]
  },
  {
   "cell_type": "code",
   "execution_count": 69,
   "metadata": {},
   "outputs": [
    {
     "data": {
      "text/plain": [
       "torch.Size([341, 12, 4])"
      ]
     },
     "execution_count": 69,
     "metadata": {},
     "output_type": "execute_result"
    }
   ],
   "source": [
    "xa.shape"
   ]
  },
  {
   "cell_type": "code",
   "execution_count": 70,
   "metadata": {},
   "outputs": [
    {
     "data": {
      "text/plain": [
       "torch.Size([341, 4, 12])"
      ]
     },
     "execution_count": 70,
     "metadata": {},
     "output_type": "execute_result"
    }
   ],
   "source": [
    "# need to swap axies \n",
    "xb = torch.transpose(xa, 1, 2)\n",
    "xb.shape"
   ]
  },
  {
   "cell_type": "code",
   "execution_count": 72,
   "metadata": {},
   "outputs": [
    {
     "data": {
      "text/plain": [
       "(4092, 4)"
      ]
     },
     "execution_count": 72,
     "metadata": {},
     "output_type": "execute_result"
    }
   ],
   "source": [
    "x.shape"
   ]
  },
  {
   "cell_type": "code",
   "execution_count": 77,
   "metadata": {},
   "outputs": [
    {
     "data": {
      "text/plain": [
       "(4, 4092)"
      ]
     },
     "execution_count": 77,
     "metadata": {},
     "output_type": "execute_result"
    }
   ],
   "source": [
    "x.T.shape"
   ]
  },
  {
   "cell_type": "code",
   "execution_count": 80,
   "metadata": {},
   "outputs": [],
   "source": [
    "fx, fy = dp.sequential_xy_split_2d(x.T.values, train_len=7, target_len=3, ban_len=2)"
   ]
  },
  {
   "cell_type": "code",
   "execution_count": 81,
   "metadata": {},
   "outputs": [
    {
     "data": {
      "text/plain": [
       "((341, 4, 7), (341, 4, 3))"
      ]
     },
     "execution_count": 81,
     "metadata": {},
     "output_type": "execute_result"
    }
   ],
   "source": [
    "fx.shape, fy.shape"
   ]
  },
  {
   "cell_type": "code",
   "execution_count": 88,
   "metadata": {},
   "outputs": [
    {
     "data": {
      "text/plain": [
       "True"
      ]
     },
     "execution_count": 88,
     "metadata": {},
     "output_type": "execute_result"
    }
   ],
   "source": [
    "# validate data is correct\n",
    "np.allclose(pd.DataFrame(fx[0].T), x.head(7))"
   ]
  },
  {
   "cell_type": "code",
   "execution_count": 89,
   "metadata": {},
   "outputs": [
    {
     "data": {
      "text/plain": [
       "True"
      ]
     },
     "execution_count": 89,
     "metadata": {},
     "output_type": "execute_result"
    }
   ],
   "source": [
    "np.allclose(pd.DataFrame(fy[0].T), x.iloc[7:10])"
   ]
  },
  {
   "cell_type": "code",
   "execution_count": 91,
   "metadata": {},
   "outputs": [
    {
     "data": {
      "text/plain": [
       "True"
      ]
     },
     "execution_count": 91,
     "metadata": {},
     "output_type": "execute_result"
    }
   ],
   "source": [
    "# validate ban is implemented correctly\n",
    "np.allclose(pd.DataFrame(fx[1].T), x.iloc[12:19])"
   ]
  },
  {
   "cell_type": "markdown",
   "metadata": {},
   "source": [
    "### build financial dataset"
   ]
  },
  {
   "cell_type": "code",
   "execution_count": 94,
   "metadata": {},
   "outputs": [],
   "source": [
    "from torch.utils.data import Dataset"
   ]
  },
  {
   "cell_type": "code",
   "execution_count": 100,
   "metadata": {},
   "outputs": [],
   "source": [
    "class TSDataset2D(Dataset):\n",
    "    def __init__(self, data, seq_len: int, pred_len: int, ban_len: int):\n",
    "        # data.shape == D, N\n",
    "        assert data.ndim == 2\n",
    "        self.data = data\n",
    "        self.seq_len = seq_len\n",
    "        self.pred_len = pred_len\n",
    "        self.ban_len = ban_len\n",
    "        self.x, self.y = dp.sequential_xy_split_2d(data, train_len=seq_len, \n",
    "                                                   target_len=pred_len, \n",
    "                                                   ban_len=ban_len)\n",
    "    \n",
    "    def __len__(self):\n",
    "        return self.x.shape[0]\n",
    "    \n",
    "    def __getitem__(self, idx):\n",
    "        _, D, N = self.x.shape\n",
    "        x = self.x[idx]\n",
    "        y = self.y[idx]\n",
    "        return x, y"
   ]
  },
  {
   "cell_type": "code",
   "execution_count": 101,
   "metadata": {},
   "outputs": [],
   "source": [
    "d = TSDataset2D(x.T.values, 7, 3, 2)"
   ]
  },
  {
   "cell_type": "code",
   "execution_count": 106,
   "metadata": {},
   "outputs": [
    {
     "data": {
      "text/plain": [
       "(array([[ 0.00054905,  0.00182787,  0.00673472, -0.00208832,  0.00208832,\n",
       "          0.00045338,  0.00578554],\n",
       "        [-0.00280899,  0.00351188,  0.0022182 , -0.00128491, -0.00186934,\n",
       "          0.00023315, -0.00046636],\n",
       "        [ 0.01299726,  0.01177731,  0.01152449,  0.0071503 , -0.00045977,\n",
       "          0.00344313,  0.00468653],\n",
       "        [ 0.02044281,  0.00928832, -0.01718916,  0.01473528,  0.00100444,\n",
       "          0.01867611,  0.0091542 ]]),\n",
       " array([[ 5.84190706e-03,  8.96401113e-05,  5.37491005e-04],\n",
       "        [ 5.83265908e-03,  1.62744000e-03, -1.04604083e-03],\n",
       "        [-1.99257960e-02, -1.67755708e-02,  1.64265104e-02],\n",
       "        [-8.93509094e-03, -1.24458836e-02,  1.71414957e-02]]))"
      ]
     },
     "execution_count": 106,
     "metadata": {},
     "output_type": "execute_result"
    }
   ],
   "source": [
    "d[0]"
   ]
  },
  {
   "cell_type": "code",
   "execution_count": 107,
   "metadata": {},
   "outputs": [],
   "source": [
    "import pytorch_lightning as pl\n",
    "from torch.utils.data import DataLoader\n",
    "from torch.nn import functional as F"
   ]
  },
  {
   "cell_type": "code",
   "execution_count": null,
   "metadata": {},
   "outputs": [],
   "source": [
    "class FinNet(pl.LightningModule):\n",
    "    def __init__(self, dim, seq_len, heads: int, n_layers: int):\n",
    "        super().__init__()\n",
    "        self.n_layers = n_layers\n",
    "        self.tsformer = TSTransformer(feature_dim=dim, heads=heads, \n",
    "                                      depth=n_layers, \n",
    "                                      seq_length=seq_len)\n",
    "        \n",
    "    def forward(self, x):\n",
    "        return self.tsformer(x)\n",
    "    \n",
    "    \n",
    "    # TODO: how to use Transformer for regression problems. \n",
    "    # or convert y into a classification problem."
   ]
  }
 ],
 "metadata": {
  "kernelspec": {
   "display_name": "Python 3",
   "language": "python",
   "name": "python3"
  },
  "language_info": {
   "codemirror_mode": {
    "name": "ipython",
    "version": 3
   },
   "file_extension": ".py",
   "mimetype": "text/x-python",
   "name": "python",
   "nbconvert_exporter": "python",
   "pygments_lexer": "ipython3",
   "version": "3.7.3"
  }
 },
 "nbformat": 4,
 "nbformat_minor": 2
}
