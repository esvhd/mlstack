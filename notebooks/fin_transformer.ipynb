{
 "cells": [
  {
   "cell_type": "code",
   "execution_count": 61,
   "metadata": {},
   "outputs": [],
   "source": [
    "# %load_ext autoreload\n",
    "%autoreload 2\n",
    "\n",
    "import os.path as osp\n",
    "import janitor\n",
    "import pypbo.perf as perf\n",
    "\n",
    "import torch\n",
    "import torch.nn as nn\n",
    "\n",
    "import sys\n",
    "sys.path.insert(0, osp.expanduser('~/git/former/'))\n",
    "\n",
    "# from former.transformers import CTransformer\n",
    "from former.transformers import TSTransformer\n",
    "\n",
    "import mlstack.tscv as tscv\n",
    "from mlstack import data_processing as dp\n",
    "from mlstack.tscv import TimeSeriesEmbargoSplit\n",
    "import mlstack.sklearn as mlsk"
   ]
  },
  {
   "cell_type": "markdown",
   "metadata": {},
   "source": [
    "# 1. Load Data"
   ]
  },
  {
   "cell_type": "code",
   "execution_count": 62,
   "metadata": {},
   "outputs": [],
   "source": [
    "data = osp.expanduser('~/data/etf.h5')\n",
    "px = pd.read_hdf(data, key='close')"
   ]
  },
  {
   "cell_type": "code",
   "execution_count": 63,
   "metadata": {},
   "outputs": [],
   "source": [
    "# import sys\n",
    "# sys.path.insert(0, '/Users/zwl/git/mlstack')"
   ]
  },
  {
   "cell_type": "code",
   "execution_count": 64,
   "metadata": {},
   "outputs": [],
   "source": [
    "rtns = perf.log_returns(px)"
   ]
  },
  {
   "cell_type": "code",
   "execution_count": 65,
   "metadata": {},
   "outputs": [],
   "source": [
    "dfl = tscv.wide_to_long(rtns)"
   ]
  },
  {
   "cell_type": "code",
   "execution_count": 66,
   "metadata": {},
   "outputs": [
    {
     "name": "stdout",
     "output_type": "stream",
     "text": [
      "<class 'pandas.core.frame.DataFrame'>\n",
      "Int64Index: 40798 entries, 0 to 40797\n",
      "Data columns (total 3 columns):\n",
      "index    40798 non-null datetime64[ns]\n",
      "name     40798 non-null object\n",
      "value    40798 non-null float64\n",
      "dtypes: datetime64[ns](1), float64(1), object(1)\n",
      "memory usage: 1.2+ MB\n"
     ]
    }
   ],
   "source": [
    "dfl.info()"
   ]
  },
  {
   "cell_type": "code",
   "execution_count": 67,
   "metadata": {},
   "outputs": [
    {
     "data": {
      "text/html": [
       "<div>\n",
       "<style scoped>\n",
       "    .dataframe tbody tr th:only-of-type {\n",
       "        vertical-align: middle;\n",
       "    }\n",
       "\n",
       "    .dataframe tbody tr th {\n",
       "        vertical-align: top;\n",
       "    }\n",
       "\n",
       "    .dataframe thead th {\n",
       "        text-align: right;\n",
       "    }\n",
       "</style>\n",
       "<table border=\"1\" class=\"dataframe\">\n",
       "  <thead>\n",
       "    <tr style=\"text-align: right;\">\n",
       "      <th></th>\n",
       "      <th>index</th>\n",
       "      <th>name</th>\n",
       "      <th>value</th>\n",
       "    </tr>\n",
       "  </thead>\n",
       "  <tbody>\n",
       "    <tr>\n",
       "      <td>0</td>\n",
       "      <td>2003-04-14</td>\n",
       "      <td>EEM US Equity</td>\n",
       "      <td>0.012997</td>\n",
       "    </tr>\n",
       "    <tr>\n",
       "      <td>1</td>\n",
       "      <td>2003-04-15</td>\n",
       "      <td>EEM US Equity</td>\n",
       "      <td>0.011777</td>\n",
       "    </tr>\n",
       "    <tr>\n",
       "      <td>2</td>\n",
       "      <td>2003-04-16</td>\n",
       "      <td>EEM US Equity</td>\n",
       "      <td>0.011524</td>\n",
       "    </tr>\n",
       "    <tr>\n",
       "      <td>3</td>\n",
       "      <td>2003-04-17</td>\n",
       "      <td>EEM US Equity</td>\n",
       "      <td>0.007150</td>\n",
       "    </tr>\n",
       "    <tr>\n",
       "      <td>4</td>\n",
       "      <td>2003-04-21</td>\n",
       "      <td>EEM US Equity</td>\n",
       "      <td>-0.000460</td>\n",
       "    </tr>\n",
       "  </tbody>\n",
       "</table>\n",
       "</div>"
      ],
      "text/plain": [
       "       index           name     value\n",
       "0 2003-04-14  EEM US Equity  0.012997\n",
       "1 2003-04-15  EEM US Equity  0.011777\n",
       "2 2003-04-16  EEM US Equity  0.011524\n",
       "3 2003-04-17  EEM US Equity  0.007150\n",
       "4 2003-04-21  EEM US Equity -0.000460"
      ]
     },
     "execution_count": 67,
     "metadata": {},
     "output_type": "execute_result"
    }
   ],
   "source": [
    "dfl.head()"
   ]
  },
  {
   "cell_type": "code",
   "execution_count": null,
   "metadata": {},
   "outputs": [],
   "source": []
  },
  {
   "cell_type": "code",
   "execution_count": 68,
   "metadata": {},
   "outputs": [],
   "source": [
    "feat_cols = ['LQD US Equity', 'IEF US Equity', 'EEM US Equity', 'SPY US Equity']\n",
    "\n",
    "x = rtns[feat_cols].dropna(how='all')"
   ]
  },
  {
   "cell_type": "code",
   "execution_count": 69,
   "metadata": {},
   "outputs": [],
   "source": [
    "flag = x.isnull().any(axis=1)"
   ]
  },
  {
   "cell_type": "code",
   "execution_count": 70,
   "metadata": {},
   "outputs": [
    {
     "data": {
      "text/html": [
       "<div>\n",
       "<style scoped>\n",
       "    .dataframe tbody tr th:only-of-type {\n",
       "        vertical-align: middle;\n",
       "    }\n",
       "\n",
       "    .dataframe tbody tr th {\n",
       "        vertical-align: top;\n",
       "    }\n",
       "\n",
       "    .dataframe thead th {\n",
       "        text-align: right;\n",
       "    }\n",
       "</style>\n",
       "<table border=\"1\" class=\"dataframe\">\n",
       "  <thead>\n",
       "    <tr style=\"text-align: right;\">\n",
       "      <th></th>\n",
       "      <th>LQD US Equity</th>\n",
       "      <th>IEF US Equity</th>\n",
       "      <th>EEM US Equity</th>\n",
       "      <th>SPY US Equity</th>\n",
       "    </tr>\n",
       "    <tr>\n",
       "      <th>index</th>\n",
       "      <th></th>\n",
       "      <th></th>\n",
       "      <th></th>\n",
       "      <th></th>\n",
       "    </tr>\n",
       "  </thead>\n",
       "  <tbody>\n",
       "    <tr>\n",
       "      <td>2003-04-07</td>\n",
       "      <td>-0.001829</td>\n",
       "      <td>-0.002340</td>\n",
       "      <td>NaN</td>\n",
       "      <td>-0.001930</td>\n",
       "    </tr>\n",
       "    <tr>\n",
       "      <td>2003-04-08</td>\n",
       "      <td>0.003654</td>\n",
       "      <td>0.003743</td>\n",
       "      <td>NaN</td>\n",
       "      <td>0.001590</td>\n",
       "    </tr>\n",
       "    <tr>\n",
       "      <td>2003-04-09</td>\n",
       "      <td>0.003277</td>\n",
       "      <td>0.003380</td>\n",
       "      <td>NaN</td>\n",
       "      <td>-0.013242</td>\n",
       "    </tr>\n",
       "    <tr>\n",
       "      <td>2003-04-10</td>\n",
       "      <td>-0.003642</td>\n",
       "      <td>-0.002680</td>\n",
       "      <td>NaN</td>\n",
       "      <td>0.005500</td>\n",
       "    </tr>\n",
       "    <tr>\n",
       "      <td>2003-04-11</td>\n",
       "      <td>-0.003563</td>\n",
       "      <td>-0.002570</td>\n",
       "      <td>NaN</td>\n",
       "      <td>-0.004121</td>\n",
       "    </tr>\n",
       "  </tbody>\n",
       "</table>\n",
       "</div>"
      ],
      "text/plain": [
       "            LQD US Equity  IEF US Equity  EEM US Equity  SPY US Equity\n",
       "index                                                                 \n",
       "2003-04-07      -0.001829      -0.002340            NaN      -0.001930\n",
       "2003-04-08       0.003654       0.003743            NaN       0.001590\n",
       "2003-04-09       0.003277       0.003380            NaN      -0.013242\n",
       "2003-04-10      -0.003642      -0.002680            NaN       0.005500\n",
       "2003-04-11      -0.003563      -0.002570            NaN      -0.004121"
      ]
     },
     "execution_count": 70,
     "metadata": {},
     "output_type": "execute_result"
    }
   ],
   "source": [
    "x.loc[flag].tail()"
   ]
  },
  {
   "cell_type": "code",
   "execution_count": 71,
   "metadata": {},
   "outputs": [],
   "source": [
    "# safe to drop other NaN\n",
    "x = x.dropna(how='any')"
   ]
  },
  {
   "cell_type": "code",
   "execution_count": 72,
   "metadata": {},
   "outputs": [],
   "source": [
    "x = janitor.clean_names(x)"
   ]
  },
  {
   "cell_type": "code",
   "execution_count": 73,
   "metadata": {},
   "outputs": [
    {
     "name": "stdout",
     "output_type": "stream",
     "text": [
      "<class 'pandas.core.frame.DataFrame'>\n",
      "DatetimeIndex: 4095 entries, 2003-04-14 to 2019-07-19\n",
      "Data columns (total 4 columns):\n",
      "lqd_us_equity    4095 non-null float64\n",
      "ief_us_equity    4095 non-null float64\n",
      "eem_us_equity    4095 non-null float64\n",
      "spy_us_equity    4095 non-null float64\n",
      "dtypes: float64(4)\n",
      "memory usage: 160.0 KB\n"
     ]
    }
   ],
   "source": [
    "x.info()"
   ]
  },
  {
   "cell_type": "markdown",
   "metadata": {},
   "source": [
    "### Examine Data"
   ]
  },
  {
   "cell_type": "code",
   "execution_count": 74,
   "metadata": {},
   "outputs": [],
   "source": [
    "# now convert to sequence examples (t, dim)\n",
    "seq_len = 12\n",
    "dim = x.shape[1]"
   ]
  },
  {
   "cell_type": "code",
   "execution_count": 75,
   "metadata": {},
   "outputs": [],
   "source": [
    "num_train = len(x) // seq_len\n",
    "tail = len(x) % seq_len"
   ]
  },
  {
   "cell_type": "code",
   "execution_count": 76,
   "metadata": {},
   "outputs": [
    {
     "data": {
      "text/plain": [
       "(341, 3)"
      ]
     },
     "execution_count": 76,
     "metadata": {},
     "output_type": "execute_result"
    }
   ],
   "source": [
    "num_train, tail"
   ]
  },
  {
   "cell_type": "code",
   "execution_count": 77,
   "metadata": {},
   "outputs": [
    {
     "data": {
      "text/plain": [
       "4092"
      ]
     },
     "execution_count": 77,
     "metadata": {},
     "output_type": "execute_result"
    }
   ],
   "source": [
    "# remove tail\n",
    "if tail > 0:\n",
    "    x = x.iloc[:-tail]\n",
    "len(x)"
   ]
  },
  {
   "cell_type": "code",
   "execution_count": 78,
   "metadata": {},
   "outputs": [],
   "source": [
    "xx = x.values.reshape((-1, seq_len, dim))"
   ]
  },
  {
   "cell_type": "code",
   "execution_count": 79,
   "metadata": {},
   "outputs": [
    {
     "data": {
      "text/plain": [
       "(341, 12, 4)"
      ]
     },
     "execution_count": 79,
     "metadata": {},
     "output_type": "execute_result"
    }
   ],
   "source": [
    "xx.shape"
   ]
  },
  {
   "cell_type": "code",
   "execution_count": 80,
   "metadata": {},
   "outputs": [
    {
     "data": {
      "text/plain": [
       "[<matplotlib.lines.Line2D at 0x7f6257628278>,\n",
       " <matplotlib.lines.Line2D at 0x7f62576283c8>,\n",
       " <matplotlib.lines.Line2D at 0x7f6257628518>,\n",
       " <matplotlib.lines.Line2D at 0x7f6257628668>]"
      ]
     },
     "execution_count": 80,
     "metadata": {},
     "output_type": "execute_result"
    },
    {
     "data": {
      "image/png": "[encoded data removed]",
      "text/plain": [
       "<Figure size 1200x400 with 1 Axes>"
      ]
     },
     "metadata": {},
     "output_type": "display_data"
    }
   ],
   "source": [
    "# long at random slice\n",
    "plt.plot(range(12), xx[105].cumsum(axis=0))"
   ]
  },
  {
   "cell_type": "markdown",
   "metadata": {},
   "source": [
    "## Test Transformer"
   ]
  },
  {
   "cell_type": "code",
   "execution_count": 81,
   "metadata": {},
   "outputs": [],
   "source": [
    "device = 'cuda' if torch.cuda.is_available() else 'cpu'"
   ]
  },
  {
   "cell_type": "code",
   "execution_count": 82,
   "metadata": {},
   "outputs": [],
   "source": [
    "b, t, e = xx.shape"
   ]
  },
  {
   "cell_type": "code",
   "execution_count": 83,
   "metadata": {},
   "outputs": [],
   "source": [
    "former = TSTransformer(feature_dim=e, heads=4, depth=3, seq_length=t, \n",
    "                       num_classes=3)"
   ]
  },
  {
   "cell_type": "code",
   "execution_count": 84,
   "metadata": {},
   "outputs": [],
   "source": [
    "former = former.to(device)"
   ]
  },
  {
   "cell_type": "code",
   "execution_count": 85,
   "metadata": {},
   "outputs": [],
   "source": [
    "xa = torch.from_numpy(xx).to(device).float()"
   ]
  },
  {
   "cell_type": "code",
   "execution_count": 86,
   "metadata": {},
   "outputs": [
    {
     "data": {
      "text/plain": [
       "torch.Size([341, 12, 4])"
      ]
     },
     "execution_count": 86,
     "metadata": {},
     "output_type": "execute_result"
    }
   ],
   "source": [
    "xa.shape"
   ]
  },
  {
   "cell_type": "code",
   "execution_count": 87,
   "metadata": {},
   "outputs": [
    {
     "data": {
      "text/plain": [
       "torch.float32"
      ]
     },
     "execution_count": 87,
     "metadata": {},
     "output_type": "execute_result"
    }
   ],
   "source": [
    "xa.dtype"
   ]
  },
  {
   "cell_type": "code",
   "execution_count": 88,
   "metadata": {},
   "outputs": [],
   "source": [
    "y = former.forward(xa)"
   ]
  },
  {
   "cell_type": "code",
   "execution_count": 89,
   "metadata": {},
   "outputs": [
    {
     "data": {
      "text/plain": [
       "torch.Size([341, 3])"
      ]
     },
     "execution_count": 89,
     "metadata": {},
     "output_type": "execute_result"
    }
   ],
   "source": [
    "y.shape"
   ]
  },
  {
   "cell_type": "code",
   "execution_count": 90,
   "metadata": {},
   "outputs": [
    {
     "data": {
      "text/plain": [
       "tensor([[-1.2263, -2.2835, -0.5031],\n",
       "        [-1.2258, -2.2907, -0.5021],\n",
       "        [-1.2241, -2.2850, -0.5038],\n",
       "        ...,\n",
       "        [-1.2267, -2.2871, -0.5022],\n",
       "        [-1.2237, -2.2891, -0.5034],\n",
       "        [-1.2259, -2.2879, -0.5025]], device='cuda:0',\n",
       "       grad_fn=<LogSoftmaxBackward>)"
      ]
     },
     "execution_count": 90,
     "metadata": {},
     "output_type": "execute_result"
    }
   ],
   "source": [
    "y"
   ]
  },
  {
   "cell_type": "markdown",
   "metadata": {},
   "source": [
    "### Regression Transformer"
   ]
  },
  {
   "cell_type": "code",
   "execution_count": 91,
   "metadata": {},
   "outputs": [],
   "source": [
    "from former.transformers import TSRegTransformer"
   ]
  },
  {
   "cell_type": "code",
   "execution_count": 92,
   "metadata": {},
   "outputs": [
    {
     "data": {
      "text/plain": [
       "torch.Size([341, 12, 4])"
      ]
     },
     "execution_count": 92,
     "metadata": {},
     "output_type": "execute_result"
    }
   ],
   "source": [
    "xa.shape"
   ]
  },
  {
   "cell_type": "code",
   "execution_count": 93,
   "metadata": {},
   "outputs": [],
   "source": [
    "reg = TSRegTransformer(feature_dim=e, heads=4, depth=3, seq_length=t, \n",
    "                       out_dim=4)"
   ]
  },
  {
   "cell_type": "code",
   "execution_count": 94,
   "metadata": {},
   "outputs": [],
   "source": [
    "reg = reg.to(device)"
   ]
  },
  {
   "cell_type": "code",
   "execution_count": 95,
   "metadata": {},
   "outputs": [],
   "source": [
    "y = reg.forward(xa)"
   ]
  },
  {
   "cell_type": "code",
   "execution_count": 96,
   "metadata": {},
   "outputs": [
    {
     "data": {
      "text/plain": [
       "torch.Size([341, 4])"
      ]
     },
     "execution_count": 96,
     "metadata": {},
     "output_type": "execute_result"
    }
   ],
   "source": [
    "y.shape"
   ]
  },
  {
   "cell_type": "code",
   "execution_count": 97,
   "metadata": {},
   "outputs": [
    {
     "data": {
      "text/plain": [
       "tensor([ 1.1637, -1.8173, -0.8295, -0.8165], device='cuda:0',\n",
       "       grad_fn=<SelectBackward>)"
      ]
     },
     "execution_count": 97,
     "metadata": {},
     "output_type": "execute_result"
    }
   ],
   "source": [
    "y[-1]"
   ]
  },
  {
   "cell_type": "markdown",
   "metadata": {},
   "source": [
    "## Next Steps\n",
    "\n",
    "- learn `torch.utils.data.Dataset` and implement a `Dataset` object that feeds financial time series data.\n",
    "    - [blog](https://stanford.edu/~shervine/blog/pytorch-how-to-generate-data-parallel)\n",
    "    - [docs](https://pytorch.org/docs/stable/data.html)\n",
    "- Use `pytorch_lightning` to build a quick script to predict asset returns.\n"
   ]
  },
  {
   "cell_type": "markdown",
   "metadata": {},
   "source": [
    "### Split data into features and labels"
   ]
  },
  {
   "cell_type": "code",
   "execution_count": 98,
   "metadata": {},
   "outputs": [
    {
     "data": {
      "text/plain": [
       "torch.Size([341, 12, 4])"
      ]
     },
     "execution_count": 98,
     "metadata": {},
     "output_type": "execute_result"
    }
   ],
   "source": [
    "xa.shape"
   ]
  },
  {
   "cell_type": "code",
   "execution_count": 99,
   "metadata": {},
   "outputs": [
    {
     "data": {
      "text/plain": [
       "torch.Size([341, 4, 12])"
      ]
     },
     "execution_count": 99,
     "metadata": {},
     "output_type": "execute_result"
    }
   ],
   "source": [
    "# need to swap axies \n",
    "xb = torch.transpose(xa, 1, 2)\n",
    "xb.shape"
   ]
  },
  {
   "cell_type": "code",
   "execution_count": 100,
   "metadata": {},
   "outputs": [
    {
     "data": {
      "text/plain": [
       "(4092, 4)"
      ]
     },
     "execution_count": 100,
     "metadata": {},
     "output_type": "execute_result"
    }
   ],
   "source": [
    "x.shape"
   ]
  },
  {
   "cell_type": "code",
   "execution_count": 101,
   "metadata": {},
   "outputs": [],
   "source": [
    "fx, fy = dp.sequential_xy_split_2d(x.T.values, train_len=7, target_len=3, ban_len=2)"
   ]
  },
  {
   "cell_type": "code",
   "execution_count": 102,
   "metadata": {},
   "outputs": [
    {
     "data": {
      "text/plain": [
       "((341, 4, 7), (341, 4, 3))"
      ]
     },
     "execution_count": 102,
     "metadata": {},
     "output_type": "execute_result"
    }
   ],
   "source": [
    "fx.shape, fy.shape"
   ]
  },
  {
   "cell_type": "code",
   "execution_count": 103,
   "metadata": {},
   "outputs": [
    {
     "data": {
      "text/plain": [
       "True"
      ]
     },
     "execution_count": 103,
     "metadata": {},
     "output_type": "execute_result"
    }
   ],
   "source": [
    "# validate data is correct, first item is fx is the same as the first 7 items of x\n",
    "np.allclose(pd.DataFrame(fx[0].T), x.head(7))"
   ]
  },
  {
   "cell_type": "code",
   "execution_count": 104,
   "metadata": {},
   "outputs": [
    {
     "data": {
      "text/plain": [
       "True"
      ]
     },
     "execution_count": 104,
     "metadata": {},
     "output_type": "execute_result"
    }
   ],
   "source": [
    "# fy[0] should be the next 3 days data in x\n",
    "np.allclose(pd.DataFrame(fy[0].T), x.iloc[7:10])"
   ]
  },
  {
   "cell_type": "code",
   "execution_count": 105,
   "metadata": {},
   "outputs": [
    {
     "data": {
      "text/plain": [
       "True"
      ]
     },
     "execution_count": 105,
     "metadata": {},
     "output_type": "execute_result"
    }
   ],
   "source": [
    "# validate ban is implemented correctly\n",
    "np.allclose(pd.DataFrame(fx[1].T), x.iloc[12:19])"
   ]
  },
  {
   "cell_type": "markdown",
   "metadata": {},
   "source": [
    "# 2. build financial dataset\n",
    "\n",
    "## Split into Train, Test data"
   ]
  },
  {
   "cell_type": "code",
   "execution_count": 106,
   "metadata": {},
   "outputs": [
    {
     "data": {
      "text/plain": [
       "(4092, 4)"
      ]
     },
     "execution_count": 106,
     "metadata": {},
     "output_type": "execute_result"
    }
   ],
   "source": [
    "x.shape"
   ]
  },
  {
   "cell_type": "code",
   "execution_count": 107,
   "metadata": {},
   "outputs": [],
   "source": [
    "rx, tx = mlsk.train_test_split_ts(x, ban_zone=5, train_size=.8, shuffle=False)"
   ]
  },
  {
   "cell_type": "code",
   "execution_count": 108,
   "metadata": {},
   "outputs": [
    {
     "data": {
      "text/html": [
       "<div>\n",
       "<style scoped>\n",
       "    .dataframe tbody tr th:only-of-type {\n",
       "        vertical-align: middle;\n",
       "    }\n",
       "\n",
       "    .dataframe tbody tr th {\n",
       "        vertical-align: top;\n",
       "    }\n",
       "\n",
       "    .dataframe thead th {\n",
       "        text-align: right;\n",
       "    }\n",
       "</style>\n",
       "<table border=\"1\" class=\"dataframe\">\n",
       "  <thead>\n",
       "    <tr style=\"text-align: right;\">\n",
       "      <th></th>\n",
       "      <th>lqd_us_equity</th>\n",
       "      <th>ief_us_equity</th>\n",
       "      <th>eem_us_equity</th>\n",
       "      <th>spy_us_equity</th>\n",
       "    </tr>\n",
       "    <tr>\n",
       "      <th>index</th>\n",
       "      <th></th>\n",
       "      <th></th>\n",
       "      <th></th>\n",
       "      <th></th>\n",
       "    </tr>\n",
       "  </thead>\n",
       "  <tbody>\n",
       "    <tr>\n",
       "      <td>2016-03-31</td>\n",
       "      <td>0.003963</td>\n",
       "      <td>0.003632</td>\n",
       "      <td>-0.000875</td>\n",
       "      <td>-0.002430</td>\n",
       "    </tr>\n",
       "    <tr>\n",
       "      <td>2016-04-01</td>\n",
       "      <td>0.003221</td>\n",
       "      <td>-0.000287</td>\n",
       "      <td>-0.002942</td>\n",
       "      <td>0.006789</td>\n",
       "    </tr>\n",
       "    <tr>\n",
       "      <td>2016-04-04</td>\n",
       "      <td>0.000084</td>\n",
       "      <td>0.001179</td>\n",
       "      <td>-0.012075</td>\n",
       "      <td>-0.003243</td>\n",
       "    </tr>\n",
       "    <tr>\n",
       "      <td>2016-04-05</td>\n",
       "      <td>0.003191</td>\n",
       "      <td>0.003983</td>\n",
       "      <td>-0.019765</td>\n",
       "      <td>-0.010042</td>\n",
       "    </tr>\n",
       "    <tr>\n",
       "      <td>2016-04-06</td>\n",
       "      <td>-0.000839</td>\n",
       "      <td>-0.002171</td>\n",
       "      <td>0.012027</td>\n",
       "      <td>0.010866</td>\n",
       "    </tr>\n",
       "  </tbody>\n",
       "</table>\n",
       "</div>"
      ],
      "text/plain": [
       "            lqd_us_equity  ief_us_equity  eem_us_equity  spy_us_equity\n",
       "index                                                                 \n",
       "2016-03-31       0.003963       0.003632      -0.000875      -0.002430\n",
       "2016-04-01       0.003221      -0.000287      -0.002942       0.006789\n",
       "2016-04-04       0.000084       0.001179      -0.012075      -0.003243\n",
       "2016-04-05       0.003191       0.003983      -0.019765      -0.010042\n",
       "2016-04-06      -0.000839      -0.002171       0.012027       0.010866"
      ]
     },
     "execution_count": 108,
     "metadata": {},
     "output_type": "execute_result"
    }
   ],
   "source": [
    "rx.tail()"
   ]
  },
  {
   "cell_type": "code",
   "execution_count": 109,
   "metadata": {},
   "outputs": [
    {
     "data": {
      "text/html": [
       "<div>\n",
       "<style scoped>\n",
       "    .dataframe tbody tr th:only-of-type {\n",
       "        vertical-align: middle;\n",
       "    }\n",
       "\n",
       "    .dataframe tbody tr th {\n",
       "        vertical-align: top;\n",
       "    }\n",
       "\n",
       "    .dataframe thead th {\n",
       "        text-align: right;\n",
       "    }\n",
       "</style>\n",
       "<table border=\"1\" class=\"dataframe\">\n",
       "  <thead>\n",
       "    <tr style=\"text-align: right;\">\n",
       "      <th></th>\n",
       "      <th>lqd_us_equity</th>\n",
       "      <th>ief_us_equity</th>\n",
       "      <th>eem_us_equity</th>\n",
       "      <th>spy_us_equity</th>\n",
       "    </tr>\n",
       "    <tr>\n",
       "      <th>index</th>\n",
       "      <th></th>\n",
       "      <th></th>\n",
       "      <th></th>\n",
       "      <th></th>\n",
       "    </tr>\n",
       "  </thead>\n",
       "  <tbody>\n",
       "    <tr>\n",
       "      <td>2016-04-21</td>\n",
       "      <td>-0.000418</td>\n",
       "      <td>-0.001642</td>\n",
       "      <td>-0.010020</td>\n",
       "      <td>-0.005393</td>\n",
       "    </tr>\n",
       "    <tr>\n",
       "      <td>2016-04-22</td>\n",
       "      <td>0.001087</td>\n",
       "      <td>-0.001095</td>\n",
       "      <td>-0.006055</td>\n",
       "      <td>0.000000</td>\n",
       "    </tr>\n",
       "    <tr>\n",
       "      <td>2016-04-25</td>\n",
       "      <td>-0.002343</td>\n",
       "      <td>-0.001098</td>\n",
       "      <td>-0.006434</td>\n",
       "      <td>-0.001724</td>\n",
       "    </tr>\n",
       "    <tr>\n",
       "      <td>2016-04-26</td>\n",
       "      <td>-0.000419</td>\n",
       "      <td>-0.002107</td>\n",
       "      <td>0.010763</td>\n",
       "      <td>0.001481</td>\n",
       "    </tr>\n",
       "    <tr>\n",
       "      <td>2016-04-27</td>\n",
       "      <td>0.006349</td>\n",
       "      <td>0.005487</td>\n",
       "      <td>0.006029</td>\n",
       "      <td>0.002060</td>\n",
       "    </tr>\n",
       "  </tbody>\n",
       "</table>\n",
       "</div>"
      ],
      "text/plain": [
       "            lqd_us_equity  ief_us_equity  eem_us_equity  spy_us_equity\n",
       "index                                                                 \n",
       "2016-04-21      -0.000418      -0.001642      -0.010020      -0.005393\n",
       "2016-04-22       0.001087      -0.001095      -0.006055       0.000000\n",
       "2016-04-25      -0.002343      -0.001098      -0.006434      -0.001724\n",
       "2016-04-26      -0.000419      -0.002107       0.010763       0.001481\n",
       "2016-04-27       0.006349       0.005487       0.006029       0.002060"
      ]
     },
     "execution_count": 109,
     "metadata": {},
     "output_type": "execute_result"
    }
   ],
   "source": [
    "tx.head()"
   ]
  },
  {
   "cell_type": "code",
   "execution_count": null,
   "metadata": {},
   "outputs": [],
   "source": []
  },
  {
   "cell_type": "code",
   "execution_count": 110,
   "metadata": {},
   "outputs": [
    {
     "data": {
      "text/plain": [
       "3273"
      ]
     },
     "execution_count": 110,
     "metadata": {},
     "output_type": "execute_result"
    }
   ],
   "source": [
    "train_len = int(x.shape[0] * .8)\n",
    "train_len"
   ]
  },
  {
   "cell_type": "code",
   "execution_count": 111,
   "metadata": {},
   "outputs": [
    {
     "data": {
      "text/plain": [
       "(3273, 819)"
      ]
     },
     "execution_count": 111,
     "metadata": {},
     "output_type": "execute_result"
    }
   ],
   "source": [
    "# split train and test sets\n",
    "train, test = x[:train_len], x[train_len:]\n",
    "len(train), len(test)"
   ]
  },
  {
   "cell_type": "code",
   "execution_count": 112,
   "metadata": {},
   "outputs": [],
   "source": [
    "from mlstack import data_processing as dp\n",
    "from torch.utils.data import Dataset"
   ]
  },
  {
   "cell_type": "code",
   "execution_count": 113,
   "metadata": {},
   "outputs": [],
   "source": [
    "class TSDataset2D(Dataset):\n",
    "    def __init__(self, data, seq_len: int, pred_len: int, ban_len: int, cumsum: bool):\n",
    "        # data.shape == D, N\n",
    "        assert data.ndim == 2\n",
    "        self.data = data\n",
    "        self.seq_len = seq_len\n",
    "        self.pred_len = pred_len\n",
    "        self.ban_len = ban_len\n",
    "        self.cumsum = cumsum\n",
    "        self.x, self.y = dp.sequential_xy_split_2d(data, train_len=seq_len, \n",
    "                                                   target_len=pred_len, \n",
    "                                                   ban_len=ban_len)\n",
    "    \n",
    "    def __len__(self):\n",
    "        return self.x.shape[0]\n",
    "    \n",
    "    def __getitem__(self, idx):\n",
    "        _, D, N = self.x.shape\n",
    "        x = self.x[idx]\n",
    "        y = self.y[idx]\n",
    "        \n",
    "        if self.cumsum:\n",
    "            y = y.sum(axis=1)\n",
    "        \n",
    "        return x.T, y"
   ]
  },
  {
   "cell_type": "code",
   "execution_count": 114,
   "metadata": {},
   "outputs": [],
   "source": [
    "seq_len = 7\n",
    "pred_len = 3\n",
    "ban_len = 2"
   ]
  },
  {
   "cell_type": "code",
   "execution_count": 115,
   "metadata": {},
   "outputs": [],
   "source": [
    "d = TSDataset2D(x.T.values, seq_len, pred_len, ban_len, cumsum=True)"
   ]
  },
  {
   "cell_type": "code",
   "execution_count": 116,
   "metadata": {},
   "outputs": [
    {
     "data": {
      "text/plain": [
       "341"
      ]
     },
     "execution_count": 116,
     "metadata": {},
     "output_type": "execute_result"
    }
   ],
   "source": [
    "len(d)"
   ]
  },
  {
   "cell_type": "code",
   "execution_count": 117,
   "metadata": {},
   "outputs": [
    {
     "data": {
      "text/plain": [
       "(7, 4)"
      ]
     },
     "execution_count": 117,
     "metadata": {},
     "output_type": "execute_result"
    }
   ],
   "source": [
    "d[0][0].shape"
   ]
  },
  {
   "cell_type": "code",
   "execution_count": 118,
   "metadata": {},
   "outputs": [
    {
     "data": {
      "text/plain": [
       "array([[ 0.00054905, -0.00280899,  0.01299726,  0.02044281],\n",
       "       [ 0.00182787,  0.00351188,  0.01177731,  0.00928832],\n",
       "       [ 0.00673472,  0.0022182 ,  0.01152449, -0.01718916],\n",
       "       [-0.00208832, -0.00128491,  0.0071503 ,  0.01473528],\n",
       "       [ 0.00208832, -0.00186934, -0.00045977,  0.00100444],\n",
       "       [ 0.00045338,  0.00023315,  0.00344313,  0.01867611],\n",
       "       [ 0.00578554, -0.00046636,  0.00468653,  0.0091542 ]])"
      ]
     },
     "execution_count": 118,
     "metadata": {},
     "output_type": "execute_result"
    }
   ],
   "source": [
    "d[0][0]"
   ]
  },
  {
   "cell_type": "code",
   "execution_count": 119,
   "metadata": {},
   "outputs": [
    {
     "data": {
      "text/plain": [
       "array([ 0.00646904,  0.00641406, -0.02027486, -0.00423948])"
      ]
     },
     "execution_count": 119,
     "metadata": {},
     "output_type": "execute_result"
    }
   ],
   "source": [
    "d[0][1]"
   ]
  },
  {
   "cell_type": "code",
   "execution_count": 120,
   "metadata": {},
   "outputs": [],
   "source": [
    "import pytorch_lightning as pl\n",
    "from torch.utils.data import DataLoader\n",
    "from torch.nn import functional as F\n",
    "from pytorch_lightning import Trainer\n",
    "\n",
    "from test_tube import Experiment"
   ]
  },
  {
   "cell_type": "code",
   "execution_count": null,
   "metadata": {},
   "outputs": [],
   "source": []
  },
  {
   "cell_type": "code",
   "execution_count": 121,
   "metadata": {},
   "outputs": [
    {
     "name": "stderr",
     "output_type": "stream",
     "text": [
      "/home/zwl/git/mlstack/mlstack/data_processing.py:135: UserWarning: Time series tail size is 4, expecting at least 10. Last chunk is discarded.\n",
      "  warnings.warn(msg)\n"
     ]
    }
   ],
   "source": [
    "train_set = TSDataset2D(rx.T.values, seq_len, pred_len, ban_len, cumsum=True)\n",
    "valid_set = TSDataset2D(tx.T.values, seq_len, pred_len, ban_len, cumsum=True)"
   ]
  },
  {
   "cell_type": "code",
   "execution_count": 122,
   "metadata": {},
   "outputs": [
    {
     "data": {
      "text/plain": [
       "(array([[ 0.00054905, -0.00280899,  0.01299726,  0.02044281],\n",
       "        [ 0.00182787,  0.00351188,  0.01177731,  0.00928832],\n",
       "        [ 0.00673472,  0.0022182 ,  0.01152449, -0.01718916],\n",
       "        [-0.00208832, -0.00128491,  0.0071503 ,  0.01473528],\n",
       "        [ 0.00208832, -0.00186934, -0.00045977,  0.00100444],\n",
       "        [ 0.00045338,  0.00023315,  0.00344313,  0.01867611],\n",
       "        [ 0.00578554, -0.00046636,  0.00468653,  0.0091542 ]]),\n",
       " array([ 0.00646904,  0.00641406, -0.02027486, -0.00423948]))"
      ]
     },
     "execution_count": 122,
     "metadata": {},
     "output_type": "execute_result"
    }
   ],
   "source": [
    "train_set[0]"
   ]
  },
  {
   "cell_type": "code",
   "execution_count": 123,
   "metadata": {},
   "outputs": [
    {
     "data": {
      "text/plain": [
       "<torch.utils.data.dataloader.DataLoader at 0x7f624c317208>"
      ]
     },
     "execution_count": 123,
     "metadata": {},
     "output_type": "execute_result"
    }
   ],
   "source": [
    "# test data loader\n",
    "u = DataLoader(train_set, batch_size=128, shuffle=False)\n",
    "u"
   ]
  },
  {
   "cell_type": "code",
   "execution_count": 124,
   "metadata": {},
   "outputs": [],
   "source": [
    "class FinNet(pl.LightningModule):\n",
    "    def __init__(self, dim: int, seq_len: int, heads: int, n_layers: int, out_dim: int, \n",
    "                 batch_size: int = 32):\n",
    "        super().__init__()\n",
    "        self.n_layers = n_layers\n",
    "        self.batch_size = batch_size\n",
    "        self.tsformer = TSRegTransformer(feature_dim=dim, \n",
    "                                         heads=heads, \n",
    "                                         depth=n_layers, \n",
    "                                         seq_length=seq_len,\n",
    "                                         out_dim=out_dim)\n",
    "        \n",
    "    def forward(self, x):\n",
    "        return self.tsformer(x)\n",
    "    \n",
    "    # TODO: how to use Transformer for regression problems. \n",
    "    # or convert y into a classification problem.\n",
    "    def training_step(self, batch, batch_nb):\n",
    "        # REQUIRED\n",
    "        x, y = batch\n",
    "        y_hat = self.forward(x)\n",
    "        # don't reduce loss here, this is so that in multi-gpu training\n",
    "        # we don't get a scaler loss warning\n",
    "        # for multi-gpu training, better to run reduction outside\n",
    "        # https://discuss.pytorch.org/t/mse-loss-gpu-warning/24782/2\n",
    "        # https://discuss.pytorch.org/t/how-to-fix-gathering-dim-0-warning-in-multi-gpu-dataparallel-setting/41733\n",
    "        # reduction is then handled in Trainer\n",
    "        return {'loss': F.l1_loss(y_hat, y.float(), reduction='none')}\n",
    "#         return {'loss': F.l1_loss(y_hat, y.float())}\n",
    "\n",
    "    def validation_step(self, batch, batch_nb):\n",
    "        # OPTIONAL\n",
    "        x, y = batch\n",
    "        y_hat = self.forward(x)\n",
    "        return {'val_loss': F.l1_loss(y_hat, y.float(), reduction='none')}\n",
    "#         return {'val_loss': F.l1_loss(y_hat, y.float()).mean(axis=1)}\n",
    "\n",
    "    def validation_end(self, outputs):\n",
    "        # OPTIONAL\n",
    "#         avg_loss = torch.stack([x['val_loss'] for x in outputs]).mean()\n",
    "        avg_loss = (\n",
    "            torch.cat(\n",
    "                [x['val_loss'].mean(axis=1, keepdim=True) for x in outputs],\n",
    "                axis=0,\n",
    "            ).mean()\n",
    "        )\n",
    "        return {'avg_val_loss': avg_loss}\n",
    "\n",
    "    def configure_optimizers(self):\n",
    "        # REQUIRED\n",
    "        # can return multiple optimizers and learning_rate schedulers\n",
    "        return torch.optim.Adam(self.parameters(), lr=0.02)\n",
    "\n",
    "    @pl.data_loader\n",
    "    def tng_dataloader(self):\n",
    "        # REQUIRED\n",
    "        return DataLoader(train_set, batch_size=self.batch_size, shuffle=False)\n",
    "\n",
    "    @pl.data_loader\n",
    "    def val_dataloader(self):\n",
    "        # OPTIONAL\n",
    "        return DataLoader(valid_set, batch_size=self.batch_size, shuffle=False)\n",
    "\n",
    "#     @pl.data_loader\n",
    "#     def test_dataloader(self):\n",
    "#         # OPTIONAL\n",
    "#         return DataLoader(train_set, batch_size=128, shuffle=False)"
   ]
  },
  {
   "cell_type": "code",
   "execution_count": 125,
   "metadata": {},
   "outputs": [],
   "source": [
    "model = FinNet(dim=x.shape[1], seq_len=seq_len, heads=4, n_layers=2, \n",
    "               out_dim=x.shape[1], batch_size=16).to(device)"
   ]
  },
  {
   "cell_type": "code",
   "execution_count": 130,
   "metadata": {},
   "outputs": [
    {
     "name": "stderr",
     "output_type": "stream",
     "text": [
      "  0%|          | 0/5 [00:00<?, ?it/s]"
     ]
    },
    {
     "name": "stdout",
     "output_type": "stream",
     "text": [
      "gpu available: True, used: True\n",
      "VISIBLE GPUS: 0,1\n",
      "                                       Name              Type  Params\n",
      "0                                  tsformer  TSRegTransformer     896\n",
      "1                    tsformer.pos_embedding         Embedding      28\n",
      "2                          tsformer.tblocks        Sequential     848\n",
      "3                        tsformer.tblocks.0  TransformerBlock     424\n",
      "4              tsformer.tblocks.0.attention     SelfAttention     260\n",
      "5       tsformer.tblocks.0.attention.tokeys            Linear      64\n",
      "6    tsformer.tblocks.0.attention.toqueries            Linear      64\n",
      "7     tsformer.tblocks.0.attention.tovalues            Linear      64\n",
      "8   tsformer.tblocks.0.attention.unifyheads            Linear      68\n",
      "9                  tsformer.tblocks.0.norm1         LayerNorm       8\n",
      "10                 tsformer.tblocks.0.norm2         LayerNorm       8\n",
      "11                    tsformer.tblocks.0.ff        Sequential     148\n",
      "12                  tsformer.tblocks.0.ff.0            Linear      80\n",
      "13                  tsformer.tblocks.0.ff.1              ReLU       0\n",
      "14                  tsformer.tblocks.0.ff.2            Linear      68\n",
      "15                    tsformer.tblocks.0.do           Dropout       0\n",
      "16                       tsformer.tblocks.1  TransformerBlock     424\n",
      "17             tsformer.tblocks.1.attention     SelfAttention     260\n",
      "18      tsformer.tblocks.1.attention.tokeys            Linear      64\n",
      "19   tsformer.tblocks.1.attention.toqueries            Linear      64\n",
      "20    tsformer.tblocks.1.attention.tovalues            Linear      64\n",
      "21  tsformer.tblocks.1.attention.unifyheads            Linear      68\n",
      "22                 tsformer.tblocks.1.norm1         LayerNorm       8\n",
      "23                 tsformer.tblocks.1.norm2         LayerNorm       8\n",
      "24                    tsformer.tblocks.1.ff        Sequential     148\n",
      "25                  tsformer.tblocks.1.ff.0            Linear      80\n",
      "26                  tsformer.tblocks.1.ff.1              ReLU       0\n",
      "27                  tsformer.tblocks.1.ff.2            Linear      68\n",
      "28                    tsformer.tblocks.1.do           Dropout       0\n",
      "29                   tsformer.linear_output            Linear      20\n",
      "30                              tsformer.do           Dropout       0\n"
     ]
    },
    {
     "name": "stderr",
     "output_type": "stream",
     "text": [
      "100%|██████████| 22/22 [00:00<00:00,  6.34it/s, avg_val_loss=0.0154, batch_nb=16, epoch=1, gpu=0, loss=0.094, v_nb=55]"
     ]
    },
    {
     "data": {
      "text/plain": [
       "1"
      ]
     },
     "execution_count": 130,
     "metadata": {},
     "output_type": "execute_result"
    },
    {
     "name": "stderr",
     "output_type": "stream",
     "text": [
      "\r",
      "100%|██████████| 22/22 [00:14<00:00,  6.34it/s, avg_val_loss=0.0154, batch_nb=16, epoch=1, gpu=0, loss=0.094, v_nb=55]"
     ]
    }
   ],
   "source": [
    "# most basic trainer, uses good defaults\n",
    "\n",
    "# tensorboard --logdir /Users/zwl/tmp/tb\n",
    "\n",
    "exp = Experiment(save_dir='/home/zwl/tmp/tb')\n",
    "trainer = Trainer(max_nb_epochs=2, experiment=exp, \n",
    "                  gpus=[0, 1], \n",
    "                  distributed_backend='dp')\n",
    "trainer.fit(model)   "
   ]
  },
  {
   "cell_type": "code",
   "execution_count": 152,
   "metadata": {},
   "outputs": [
    {
     "name": "stderr",
     "output_type": "stream",
     "text": [
      "\r",
      "100%|██████████| 22/22 [00:19<00:00, 27.49it/s, avg_val_loss=0.00809, batch_nb=16, epoch=29, gpu=0, loss=0.013, v_nb=26]"
     ]
    }
   ],
   "source": [
    "_ = model.eval()"
   ]
  },
  {
   "cell_type": "code",
   "execution_count": 156,
   "metadata": {},
   "outputs": [],
   "source": [
    "u, v = valid_set[-33]"
   ]
  },
  {
   "cell_type": "code",
   "execution_count": 157,
   "metadata": {},
   "outputs": [
    {
     "data": {
      "text/plain": [
       "tensor([[-0.0019,  0.0006, -0.0050,  0.0017]], device='cuda:0',\n",
       "       grad_fn=<AddmmBackward>)"
      ]
     },
     "execution_count": 157,
     "metadata": {},
     "output_type": "execute_result"
    }
   ],
   "source": [
    "model.forward(torch.from_numpy(u.reshape(1, -1, u.shape[-1])).to(device))"
   ]
  },
  {
   "cell_type": "code",
   "execution_count": 158,
   "metadata": {},
   "outputs": [
    {
     "data": {
      "text/plain": [
       "array([ 0.00453255,  0.00283017, -0.00215261, -0.00244336])"
      ]
     },
     "execution_count": 158,
     "metadata": {},
     "output_type": "execute_result"
    }
   ],
   "source": [
    "v"
   ]
  },
  {
   "cell_type": "code",
   "execution_count": null,
   "metadata": {},
   "outputs": [],
   "source": []
  },
  {
   "cell_type": "markdown",
   "metadata": {},
   "source": [
    "## Try a simpler model"
   ]
  },
  {
   "cell_type": "code",
   "execution_count": 93,
   "metadata": {},
   "outputs": [],
   "source": [
    "import sklearn.linear_model as lm"
   ]
  },
  {
   "cell_type": "code",
   "execution_count": 95,
   "metadata": {},
   "outputs": [
    {
     "data": {
      "text/html": [
       "<div>\n",
       "<style scoped>\n",
       "    .dataframe tbody tr th:only-of-type {\n",
       "        vertical-align: middle;\n",
       "    }\n",
       "\n",
       "    .dataframe tbody tr th {\n",
       "        vertical-align: top;\n",
       "    }\n",
       "\n",
       "    .dataframe thead th {\n",
       "        text-align: right;\n",
       "    }\n",
       "</style>\n",
       "<table border=\"1\" class=\"dataframe\">\n",
       "  <thead>\n",
       "    <tr style=\"text-align: right;\">\n",
       "      <th></th>\n",
       "      <th>lqd_us_equity</th>\n",
       "      <th>ief_us_equity</th>\n",
       "      <th>eem_us_equity</th>\n",
       "      <th>spy_us_equity</th>\n",
       "    </tr>\n",
       "    <tr>\n",
       "      <th>index</th>\n",
       "      <th></th>\n",
       "      <th></th>\n",
       "      <th></th>\n",
       "      <th></th>\n",
       "    </tr>\n",
       "  </thead>\n",
       "  <tbody>\n",
       "    <tr>\n",
       "      <td>2003-04-14</td>\n",
       "      <td>0.000549</td>\n",
       "      <td>-0.002809</td>\n",
       "      <td>0.012997</td>\n",
       "      <td>0.020443</td>\n",
       "    </tr>\n",
       "    <tr>\n",
       "      <td>2003-04-15</td>\n",
       "      <td>0.001828</td>\n",
       "      <td>0.003512</td>\n",
       "      <td>0.011777</td>\n",
       "      <td>0.009288</td>\n",
       "    </tr>\n",
       "    <tr>\n",
       "      <td>2003-04-16</td>\n",
       "      <td>0.006735</td>\n",
       "      <td>0.002218</td>\n",
       "      <td>0.011524</td>\n",
       "      <td>-0.017189</td>\n",
       "    </tr>\n",
       "    <tr>\n",
       "      <td>2003-04-17</td>\n",
       "      <td>-0.002088</td>\n",
       "      <td>-0.001285</td>\n",
       "      <td>0.007150</td>\n",
       "      <td>0.014735</td>\n",
       "    </tr>\n",
       "    <tr>\n",
       "      <td>2003-04-21</td>\n",
       "      <td>0.002088</td>\n",
       "      <td>-0.001869</td>\n",
       "      <td>-0.000460</td>\n",
       "      <td>0.001004</td>\n",
       "    </tr>\n",
       "  </tbody>\n",
       "</table>\n",
       "</div>"
      ],
      "text/plain": [
       "            lqd_us_equity  ief_us_equity  eem_us_equity  spy_us_equity\n",
       "index                                                                 \n",
       "2003-04-14       0.000549      -0.002809       0.012997       0.020443\n",
       "2003-04-15       0.001828       0.003512       0.011777       0.009288\n",
       "2003-04-16       0.006735       0.002218       0.011524      -0.017189\n",
       "2003-04-17      -0.002088      -0.001285       0.007150       0.014735\n",
       "2003-04-21       0.002088      -0.001869      -0.000460       0.001004"
      ]
     },
     "execution_count": 95,
     "metadata": {},
     "output_type": "execute_result"
    }
   ],
   "source": [
    "rx.head()"
   ]
  },
  {
   "cell_type": "code",
   "execution_count": 1,
   "metadata": {},
   "outputs": [],
   "source": [
    "import math"
   ]
  },
  {
   "cell_type": "code",
   "execution_count": 3,
   "metadata": {},
   "outputs": [],
   "source": [
    "e = 125"
   ]
  },
  {
   "cell_type": "code",
   "execution_count": 4,
   "metadata": {},
   "outputs": [
    {
     "name": "stdout",
     "output_type": "stream",
     "text": [
      "108 ns ± 1.23 ns per loop (mean ± std. dev. of 7 runs, 10000000 loops each)\n"
     ]
    }
   ],
   "source": [
    "%%timeit\n",
    "math.sqrt(e)"
   ]
  },
  {
   "cell_type": "code",
   "execution_count": 5,
   "metadata": {},
   "outputs": [
    {
     "name": "stdout",
     "output_type": "stream",
     "text": [
      "906 ns ± 9.27 ns per loop (mean ± std. dev. of 7 runs, 1000000 loops each)\n"
     ]
    }
   ],
   "source": [
    "%%timeit\n",
    "np.sqrt(e)"
   ]
  },
  {
   "cell_type": "code",
   "execution_count": 6,
   "metadata": {},
   "outputs": [
    {
     "name": "stdout",
     "output_type": "stream",
     "text": [
      "134 ns ± 0.24 ns per loop (mean ± std. dev. of 7 runs, 10000000 loops each)\n"
     ]
    }
   ],
   "source": [
    "%%timeit\n",
    "e ** ( 1/ 4)"
   ]
  },
  {
   "cell_type": "code",
   "execution_count": 7,
   "metadata": {},
   "outputs": [
    {
     "name": "stdout",
     "output_type": "stream",
     "text": [
      "204 ns ± 8.58 ns per loop (mean ± std. dev. of 7 runs, 1000000 loops each)\n"
     ]
    }
   ],
   "source": [
    "%%timeit\n",
    "math.pow(e, .25)"
   ]
  },
  {
   "cell_type": "code",
   "execution_count": 8,
   "metadata": {},
   "outputs": [
    {
     "name": "stdout",
     "output_type": "stream",
     "text": [
      "202 ns ± 8.45 ns per loop (mean ± std. dev. of 7 runs, 1000000 loops each)\n"
     ]
    }
   ],
   "source": [
    "%%timeit\n",
    "math.sqrt(math.sqrt(e))"
   ]
  },
  {
   "cell_type": "code",
   "execution_count": 56,
   "metadata": {},
   "outputs": [
    {
     "data": {
      "text/plain": [
       "torch.float32"
      ]
     },
     "execution_count": 56,
     "metadata": {},
     "output_type": "execute_result"
    }
   ],
   "source": [
    "a.dtype"
   ]
  },
  {
   "cell_type": "code",
   "execution_count": 58,
   "metadata": {},
   "outputs": [
    {
     "data": {
      "text/plain": [
       "torch.float32"
      ]
     },
     "execution_count": 58,
     "metadata": {},
     "output_type": "execute_result"
    }
   ],
   "source": [
    "torch.arange(5, dtype=a.dtype).dtype"
   ]
  },
  {
   "cell_type": "code",
   "execution_count": 60,
   "metadata": {},
   "outputs": [
    {
     "data": {
      "text/plain": [
       "torch.float32"
      ]
     },
     "execution_count": 60,
     "metadata": {},
     "output_type": "execute_result"
    }
   ],
   "source": [
    "a.float().dtype"
   ]
  },
  {
   "cell_type": "code",
   "execution_count": null,
   "metadata": {},
   "outputs": [],
   "source": []
  }
 ],
 "metadata": {
  "kernelspec": {
   "display_name": "Python 3",
   "language": "python",
   "name": "python3"
  },
  "language_info": {
   "codemirror_mode": {
    "name": "ipython",
    "version": 3
   },
   "file_extension": ".py",
   "mimetype": "text/x-python",
   "name": "python",
   "nbconvert_exporter": "python",
   "pygments_lexer": "ipython3",
   "version": "3.7.3"
  }
 },
 "nbformat": 4,
 "nbformat_minor": 2
}
